{
 "cells": [
  {
   "cell_type": "markdown",
   "metadata": {},
   "source": [
    "## An XOR linked list is a more memory efficient doubly linked list. Instead of each node holding next and prev fields, it holds a field named both, which is an XOR of the next node and the previous node. Implement an XOR linked list; it has an add(element) which adds the element to the end, and a get(index) which returns the node at index.\n",
    "\n",
    "If using a language that has no pointers (such as Python), you can assume you have access to get_pointer and dereference_pointer functions that converts between nodes and memory addresses."
   ]
  },
  {
   "cell_type": "code",
   "execution_count": null,
   "metadata": {},
   "outputs": [],
   "source": [
    "import ctypes\n",
    "\n",
    "class Node:\n",
    "    def __init__(self, data):\n",
    "        self.data = data\n",
    "        self.both = None\n",
    "\n",
    "class XORLinkedList:\n",
    "    def __init__(self):\n",
    "        self.head = None\n",
    "        self.tail = None\n",
    "        self.__nodes = []  # to prevent garbage collection\n",
    "\n",
    "    def add(self, element):\n",
    "        node = Node(element)\n",
    "        if self.head is None:\n",
    "            self.head = self.tail = node\n",
    "        else:\n",
    "            self.tail.both = id(node) ^ self.tail.both\n",
    "            node.both = id(self.tail)\n",
    "            self.tail = node\n",
    "        self.__nodes.append(node)\n",
    "\n",
    "    def get(self, index):\n",
    "        prev_id = 0\n",
    "        current_node = self.head\n",
    "        for i in range(index):\n",
    "            next_id = prev_id ^ current_node.both\n",
    "            prev_id = id(current_node)\n",
    "            current_node = _get_node(next_id)\n",
    "        return current_node\n",
    "\n",
    "def _get_node(node_id):\n",
    "    return ctypes.cast(node_id, ctypes.py_object).value\n"
   ]
  }
 ],
 "metadata": {
  "kernelspec": {
   "display_name": "Python 3",
   "language": "python",
   "name": "python3"
  },
  "language_info": {
   "codemirror_mode": {
    "name": "ipython",
    "version": 3
   },
   "file_extension": ".py",
   "mimetype": "text/x-python",
   "name": "python",
   "nbconvert_exporter": "python",
   "pygments_lexer": "ipython3",
   "version": "3.7.3"
  }
 },
 "nbformat": 4,
 "nbformat_minor": 2
}
