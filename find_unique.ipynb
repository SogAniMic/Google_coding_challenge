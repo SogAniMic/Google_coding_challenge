{
 "cells": [
  {
   "cell_type": "markdown",
   "id": "ee4cf3da",
   "metadata": {},
   "source": [
    "# This problem was asked by Google.\n",
    "\n",
    "Given an array of integers where every integer occurs three times except for one integer, which only occurs once, find and return the non-duplicated integer.\n",
    "\n",
    "For example, given [6, 1, 3, 3, 3, 6, 6], return 1. Given [13, 19, 13, 13], return 19.\n",
    "\n",
    "Do this in O(N) time and O(1) space."
   ]
  },
  {
   "cell_type": "code",
   "execution_count": null,
   "id": "119effe7",
   "metadata": {},
   "outputs": [],
   "source": [
    "def find_unique(arr):\n",
    "    result_arr = [0] * 32\n",
    "    for num in arr:\n",
    "        for i in range(32):\n",
    "            bit = num >> i & 1\n",
    "            result_arr[i] = (result_arr[i] + bit) % 3\n",
    "\n",
    "    result = 0\n",
    "    for i, bit in enumerate(result_arr):\n",
    "        if bit:\n",
    "            result += 2 ** i\n",
    "\n",
    "    return result"
   ]
  }
 ],
 "metadata": {
  "kernelspec": {
   "display_name": "Python 3 (ipykernel)",
   "language": "python",
   "name": "python3"
  },
  "language_info": {
   "codemirror_mode": {
    "name": "ipython",
    "version": 3
   },
   "file_extension": ".py",
   "mimetype": "text/x-python",
   "name": "python",
   "nbconvert_exporter": "python",
   "pygments_lexer": "ipython3",
   "version": "3.9.13"
  }
 },
 "nbformat": 4,
 "nbformat_minor": 5
}
