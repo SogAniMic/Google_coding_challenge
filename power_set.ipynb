{
 "cells": [
  {
   "cell_type": "markdown",
   "id": "b4761013",
   "metadata": {},
   "source": [
    "# The power set of a set is the set of all its subsets. Write a function that, given a set, generates its power set.\n",
    "\n",
    "For example, given the set {1, 2, 3}, it should return {{}, {1}, {2}, {3}, {1, 2}, {1, 3}, {2, 3}, {1, 2, 3}}.\n",
    "\n",
    "You may also use a list or array to represent a set."
   ]
  },
  {
   "cell_type": "code",
   "execution_count": null,
   "id": "561e96ae",
   "metadata": {},
   "outputs": [],
   "source": [
    "def power_set(s):\n",
    "    if not s:\n",
    "        return [[]]\n",
    "    result = power_set(s[1:])\n",
    "    return result + [subset + [s[0]] for subset in result]"
   ]
  }
 ],
 "metadata": {
  "kernelspec": {
   "display_name": "Python 3 (ipykernel)",
   "language": "python",
   "name": "python3"
  },
  "language_info": {
   "codemirror_mode": {
    "name": "ipython",
    "version": 3
   },
   "file_extension": ".py",
   "mimetype": "text/x-python",
   "name": "python",
   "nbconvert_exporter": "python",
   "pygments_lexer": "ipython3",
   "version": "3.9.13"
  }
 },
 "nbformat": 4,
 "nbformat_minor": 5
}
