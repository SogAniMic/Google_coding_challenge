{
 "cells": [
  {
   "cell_type": "markdown",
   "id": "7c17d1f1",
   "metadata": {},
   "source": [
    "# Given pre-order and in-order traversals of a binary tree, write a function to reconstruct the tree.\n",
    "\n",
    "For example, given the following preorder traversal:\n",
    "\n",
    "[a, b, d, e, c, f, g]\n",
    "\n",
    "And the following inorder traversal:\n",
    "\n",
    "[d, b, e, a, f, c, g]"
   ]
  },
  {
   "cell_type": "code",
   "execution_count": null,
   "id": "04c5547d",
   "metadata": {},
   "outputs": [],
   "source": [
    "def reconstruct(preorder, inorder):\n",
    "    if not preorder and not inorder:\n",
    "        return None\n",
    "    if len(preorder) == len(inorder) == 1:\n",
    "        return preorder[0]\n",
    "\n",
    "    root = preorder[0]\n",
    "    root_i = inorder.index(root)\n",
    "    root.left = reconstruct(preorder[1:1 + root_i], inorder[0:root_i])\n",
    "    root.right = reconstruct(preorder[1 + root_i:], inorder[root_i + 1:])\n",
    "    return root"
   ]
  }
 ],
 "metadata": {
  "kernelspec": {
   "display_name": "Python 3 (ipykernel)",
   "language": "python",
   "name": "python3"
  },
  "language_info": {
   "codemirror_mode": {
    "name": "ipython",
    "version": 3
   },
   "file_extension": ".py",
   "mimetype": "text/x-python",
   "name": "python",
   "nbconvert_exporter": "python",
   "pygments_lexer": "ipython3",
   "version": "3.9.13"
  }
 },
 "nbformat": 4,
 "nbformat_minor": 5
}
