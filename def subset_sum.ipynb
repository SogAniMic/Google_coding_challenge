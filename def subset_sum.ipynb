{
 "cells": [
  {
   "cell_type": "markdown",
   "id": "e234abc9",
   "metadata": {},
   "source": [
    "# Given a list of integers S and a target number k, write a function that returns a subset of S that adds up to k. If such a subset cannot be made, then return null.\n",
    "\n",
    "Integers can appear more than once in the list. You may assume all numbers in the list are positive.\n",
    "\n",
    "For example, given S = [12, 1, 61, 5, 9, 2] and k = 24, return [12, 9, 2, 1] since it sums up to 24."
   ]
  },
  {
   "cell_type": "code",
   "execution_count": null,
   "id": "f76e87a4",
   "metadata": {},
   "outputs": [],
   "source": [
    "def subset_sum(nums, k):\n",
    "    A = [[None for _ in range(k + 1)] for _ in range(len(nums) + 1)]\n",
    "\n",
    "    for i in range(len(nums) + 1):\n",
    "        A[i][0] = []\n",
    "\n",
    "    for i in range(1, len(nums) + 1):\n",
    "        for j in range(1, k + 1):\n",
    "            last = nums[i - 1]\n",
    "            if last > j:\n",
    "                A[i][j] = A[i - 1][j]\n",
    "            else:\n",
    "                if A[i - 1][j] is not None:\n",
    "                    A[i][j] = A[i - 1][j]\n",
    "                elif A[i - 1][j - last] is not None:\n",
    "                    A[i][j] = A[i - 1][j - last] + [last]\n",
    "                else:\n",
    "                    A[i][j] = None\n",
    "\n",
    "    return A[-1][-1]"
   ]
  }
 ],
 "metadata": {
  "kernelspec": {
   "display_name": "Python 3 (ipykernel)",
   "language": "python",
   "name": "python3"
  },
  "language_info": {
   "codemirror_mode": {
    "name": "ipython",
    "version": 3
   },
   "file_extension": ".py",
   "mimetype": "text/x-python",
   "name": "python",
   "nbconvert_exporter": "python",
   "pygments_lexer": "ipython3",
   "version": "3.9.13"
  }
 },
 "nbformat": 4,
 "nbformat_minor": 5
}
