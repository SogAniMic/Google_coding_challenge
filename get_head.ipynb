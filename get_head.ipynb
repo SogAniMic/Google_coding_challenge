{
 "cells": [
  {
   "cell_type": "markdown",
   "id": "09dd661d",
   "metadata": {},
   "source": [
    "# Given pre-order and in-order traversals of a binary tree, write a function to reconstruct the tree.\n",
    "\n",
    "For example, given the following preorder traversal:\n",
    "\n",
    "[a, b, d, e, c, f, g]\n",
    "\n",
    "And the following inorder traversal:\n",
    "\n",
    "[d, b, e, a, f, c, g]"
   ]
  },
  {
   "cell_type": "code",
   "execution_count": null,
   "id": "ce5db57a",
   "metadata": {},
   "outputs": [],
   "source": [
    "lass Node:\n",
    "    def __init__(self, key, val):\n",
    "        self.key = key\n",
    "        self.val = val\n",
    "        self.prev = None\n",
    "        self.next = None\n",
    "\n",
    "class LinkedList:\n",
    "    def __init__(self):\n",
    "        # dummy nodes\n",
    "        self.head = Node(None, 'head')\n",
    "        self.tail = Node(None, 'tail')\n",
    "        # set up head <-> tail\n",
    "        self.head.next = self.tail\n",
    "        self.tail.prev = self.head\n",
    "\n",
    "    def get_head(self):\n",
    "        return self.head.next\n",
    "\n",
    "    def get_tail(self):\n",
    "        return self.tail.prev\n",
    "\n",
    "    def add(self, node):\n",
    "        prev = self.tail.prev\n",
    "        prev.next = node\n",
    "        node.prev = prev\n",
    "        node.next = self.tail\n",
    "        self.tail.prev = node\n",
    "\n",
    "    def remove(self, node):\n",
    "        prev = node.prev\n",
    "        nxt = node.next\n",
    "        prev.next = nxt\n",
    "        nxt.prev = prev\n",
    "\n",
    "class LRUCache:\n",
    "    def __init__(self, n):\n",
    "        self.n = n\n",
    "        self.dict = {}\n",
    "        self.list = LinkedList()\n",
    "\n",
    "    def set(self, key, val):\n",
    "        if key in self.dict:\n",
    "            self.dict[key].delete()\n",
    "        n = Node(key, val)\n",
    "        self.list.add(n)\n",
    "        self.dict[key] = n\n",
    "        if len(self.dict) > self.n:\n",
    "            head = self.list.get_head()\n",
    "            self.list.remove(head)\n",
    "            del self.dict[head.key]\n",
    "\n",
    "    def get(self, key):\n",
    "        if key in self.dict:\n",
    "            n = self.dict[key]\n",
    "            # bump to the back of the list by removing and adding the node\n",
    "            self.list.remove(n)\n",
    "            self.list.add(n)\n",
    "            return n.val"
   ]
  }
 ],
 "metadata": {
  "kernelspec": {
   "display_name": "Python 3 (ipykernel)",
   "language": "python",
   "name": "python3"
  },
  "language_info": {
   "codemirror_mode": {
    "name": "ipython",
    "version": 3
   },
   "file_extension": ".py",
   "mimetype": "text/x-python",
   "name": "python",
   "nbconvert_exporter": "python",
   "pygments_lexer": "ipython3",
   "version": "3.9.13"
  }
 },
 "nbformat": 4,
 "nbformat_minor": 5
}
