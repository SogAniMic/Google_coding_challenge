{
 "cells": [
  {
   "cell_type": "markdown",
   "id": "c432773d",
   "metadata": {},
   "source": [
    "# You are given an M by N matrix consisting of booleans that represents a board. Each True boolean represents a wall. Each False boolean represents a tile you can walk on.\n",
    "\n",
    "Given this matrix, a start coordinate, and an end coordinate, return the minimum number of steps required to reach the end coordinate from the start. If there is no possible path, then return null. You can move up, left, down, and right. You cannot move through walls. You cannot wrap around the edges of the board."
   ]
  },
  {
   "cell_type": "code",
   "execution_count": null,
   "id": "24b3962c",
   "metadata": {},
   "outputs": [],
   "source": [
    "from collections import deque\n",
    "\n",
    "# Given a row and column, returns whether that tile is walkable.\n",
    "def walkable(board, row, col):\n",
    "    if row < 0 or row >= len(board):\n",
    "        return False\n",
    "    if col < 0 or col >= len(board[0]):\n",
    "        return False\n",
    "    return not board[row][col]\n",
    "\n",
    "# Gets walkable neighbouring tiles.\n",
    "def get_walkable_neighbours(board, row, col):\n",
    "    return [(r, c) for r, c in [\n",
    "        (row, col - 1),\n",
    "        (row - 1, col),\n",
    "        (row + 1, col),\n",
    "        (row, col + 1)]\n",
    "        if walkable(board, r, c)\n",
    "    ]\n",
    "\n",
    "def shortest_path(board, start, end):\n",
    "    seen = set()\n",
    "    queue = deque([(start, 0)])\n",
    "    while queue:\n",
    "        coords, count = queue.popleft()\n",
    "        if coords == end:\n",
    "            return count\n",
    "        seen.add(coords)\n",
    "        neighbours = get_walkable_neighbours(board, coords[0], coords[1])\n",
    "        queue.extend((neighbour, count + 1) for neighbour in neighbours\n",
    "                if neighbour not in seen)\n",
    "\n",
    "board = [[False, False, False, False],\n",
    "        [True, True, True, True],\n",
    "        [False, False, False, False],\n",
    "        [False, False, False, False]]\n",
    "\n",
    "print(shortest_path(board, (3, 0), (0, 0)))"
   ]
  }
 ],
 "metadata": {
  "kernelspec": {
   "display_name": "Python 3 (ipykernel)",
   "language": "python",
   "name": "python3"
  },
  "language_info": {
   "codemirror_mode": {
    "name": "ipython",
    "version": 3
   },
   "file_extension": ".py",
   "mimetype": "text/x-python",
   "name": "python",
   "nbconvert_exporter": "python",
   "pygments_lexer": "ipython3",
   "version": "3.9.13"
  }
 },
 "nbformat": 4,
 "nbformat_minor": 5
}
