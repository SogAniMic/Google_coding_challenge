{
 "cells": [
  {
   "cell_type": "markdown",
   "id": "19dc873f",
   "metadata": {},
   "source": [
    "# Implement locking in a binary tree. A binary tree node can be locked or unlocked only if all of its descendants or ancestors are not locked.\n",
    "\n",
    "Design a binary tree node class with the following methods:\n",
    "\n",
    "is_locked, which returns whether the node is locked\n",
    "lock, which attempts to lock the node. If it cannot be locked, then it should return false. Otherwise, it should lock it and return true.\n",
    "unlock, which unlocks the node. If it cannot be unlocked, then it should return false. Otherwise, it should unlock it and return true.\n",
    "You may augment the node to add parent pointers or any other property you would like. You may assume the class is used in a single-threaded program, so there is no need for actual locks or mutexes. Each method should run in O(h), where h is the height of the tree."
   ]
  },
  {
   "cell_type": "code",
   "execution_count": null,
   "id": "8986f8f9",
   "metadata": {},
   "outputs": [],
   "source": [
    "class LockingBinaryTreeNode(object):\n",
    "    def __init__(self, val, left=None, right=None, parent=None):\n",
    "        self.val = val\n",
    "        self.left = left\n",
    "        self.right = right\n",
    "        self.parent = parent\n",
    "        self.is_locked = False\n",
    "        self.locked_descendants_count = 0\n",
    "\n",
    "    def _can_lock_or_unlock(self):\n",
    "        if self.locked_descendants_count > 0:\n",
    "            return False\n",
    "\n",
    "        cur = self.parent\n",
    "        while cur:\n",
    "            if cur.is_locked:\n",
    "                return False\n",
    "            cur = cur.parent\n",
    "        return True\n",
    "\n",
    "    def is_locked(self):\n",
    "        return self.is_locked\n",
    "\n",
    "\n",
    "    def lock(self):\n",
    "        if self.is_locked:\n",
    "            return False # node already locked\n",
    "\n",
    "        if not self._can_lock_or_unlock():\n",
    "            return False\n",
    "\n",
    "        # Not locked, so update is_locked and increment count in all ancestors\n",
    "        self.is_locked = True\n",
    "\n",
    "        cur = self.parent\n",
    "        while cur:\n",
    "            cur.locked_descendants_count += 1\n",
    "            cur = cur.parent\n",
    "        return True\n",
    "\n",
    "    def unlock(self):\n",
    "        if not self.is_locked:\n",
    "            return False # node already unlocked\n",
    "\n",
    "        if not self._can_lock_or_unlock():\n",
    "            return False\n",
    "\n",
    "        self.is_locked = False\n",
    "\n",
    "        # Update count in all ancestors\n",
    "        cur = self.parent\n",
    "        while cur:\n",
    "            cur.locked_descendants_count -= 1\n",
    "            cur = cur.parent\n",
    "        return True"
   ]
  }
 ],
 "metadata": {
  "kernelspec": {
   "display_name": "Python 3 (ipykernel)",
   "language": "python",
   "name": "python3"
  },
  "language_info": {
   "codemirror_mode": {
    "name": "ipython",
    "version": 3
   },
   "file_extension": ".py",
   "mimetype": "text/x-python",
   "name": "python",
   "nbconvert_exporter": "python",
   "pygments_lexer": "ipython3",
   "version": "3.9.13"
  }
 },
 "nbformat": 4,
 "nbformat_minor": 5
}
