{
 "cells": [
  {
   "cell_type": "markdown",
   "metadata": {},
   "source": [
    "## Implement an LFU (Least Frequently Used) cache. It should be able to be initialized with a cache size n, and contain the following methods:\n",
    "\n"
   ]
  },
  {
   "cell_type": "raw",
   "metadata": {},
   "source": [
    "set(key, value): sets key to value. If there are already n items in the cache and we are adding a new item, then it should also remove the least frequently used item. If there is a tie, then the least recently used key should be removed.\n",
    "\n",
    "get(key): gets the value at key. If no such key exists, return null.\n",
    "\n",
    "Each operation should run in O(1) time."
   ]
  },
  {
   "cell_type": "code",
   "execution_count": 1,
   "metadata": {},
   "outputs": [],
   "source": [
    "from collections import OrderedDict, Counter\n",
    "\n",
    "class LFUCache:\n",
    "    def __init__(self, n: int):\n",
    "        self.size = n\n",
    "        self.cache = OrderedDict()\n",
    "        self.frequency = Counter()\n",
    "\n",
    "    def set(self, key, value):\n",
    "        if self.size <= 0:\n",
    "            return\n",
    "        \n",
    "        if key in self.cache:\n",
    "            self.cache.move_to_end(key)\n",
    "        elif len(self.cache) >= self.size:\n",
    "            least_frequent_key = min(self.frequency, key=self.frequency.get)\n",
    "            self.frequency.pop(least_frequent_key)\n",
    "            self.cache.pop(least_frequent_key)\n",
    "        \n",
    "        self.cache[key] = value\n",
    "        self.frequency[key] += 1\n",
    "        \n",
    "    def get(self, key):\n",
    "        if key not in self.cache:\n",
    "            return None\n",
    "        self.frequency[key] += 1\n",
    "        self.cache.move_to_end(key)\n",
    "        return self.cache[key]\n",
    "\n",
    "\n",
    "\n"
   ]
  },
  {
   "cell_type": "code",
   "execution_count": null,
   "metadata": {},
   "outputs": [],
   "source": []
  }
 ],
 "metadata": {
  "kernelspec": {
   "display_name": "Python 3",
   "language": "python",
   "name": "python3"
  },
  "language_info": {
   "codemirror_mode": {
    "name": "ipython",
    "version": 3
   },
   "file_extension": ".py",
   "mimetype": "text/x-python",
   "name": "python",
   "nbconvert_exporter": "python",
   "pygments_lexer": "ipython3",
   "version": "3.7.3"
  }
 },
 "nbformat": 4,
 "nbformat_minor": 2
}
