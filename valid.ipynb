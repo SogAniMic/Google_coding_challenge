{
 "cells": [
  {
   "cell_type": "markdown",
   "id": "7ad01bed",
   "metadata": {},
   "source": [
    "# Given an undirected graph represented as an adjacency matrix and an integer k, write a function to determine whether each vertex in the graph can be colored such that no two adjacent vertices share the same color using at most k colors."
   ]
  },
  {
   "cell_type": "code",
   "execution_count": null,
   "id": "8ef7cbad",
   "metadata": {},
   "outputs": [],
   "source": [
    "def valid(graph, colors):\n",
    "    last_vertex, last_color = len(colors) - 1, colors[-1]\n",
    "    colored_neighbors = [i\n",
    "            for i, has_edge\n",
    "            in enumerate(graph[last_vertex])\n",
    "            if has_edge and i < last_vertex]\n",
    "    for neighbor in colored_neighbors:\n",
    "        if colors[neighbor] == last_color:\n",
    "            return False\n",
    "    return True\n",
    "\n",
    "def colorable(graph, k, colors=[]):\n",
    "    if len(colors) == len(graph):\n",
    "        return True\n",
    "\n",
    "    for i in range(k):\n",
    "        colors.append(i)\n",
    "        if valid(graph, colors):\n",
    "            if colorable(graph, k, colors):\n",
    "                return True\n",
    "        colors.pop()\n",
    "\n",
    "    return False"
   ]
  }
 ],
 "metadata": {
  "kernelspec": {
   "display_name": "Python 3 (ipykernel)",
   "language": "python",
   "name": "python3"
  },
  "language_info": {
   "codemirror_mode": {
    "name": "ipython",
    "version": 3
   },
   "file_extension": ".py",
   "mimetype": "text/x-python",
   "name": "python",
   "nbconvert_exporter": "python",
   "pygments_lexer": "ipython3",
   "version": "3.9.13"
  }
 },
 "nbformat": 4,
 "nbformat_minor": 5
}
