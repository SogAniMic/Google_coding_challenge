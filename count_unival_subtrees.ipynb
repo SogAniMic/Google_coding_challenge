{
 "cells": [
  {
   "cell_type": "markdown",
   "metadata": {},
   "source": [
    "# A unival tree (which stands for \"universal value\") is a tree where all nodes under it have the same value.\n",
    "\n",
    "Given the root to a binary tree, count the number of unival subtrees.\n",
    "\n",
    "For example, the following tree has 5 unival subtrees:"
   ]
  },
  {
   "cell_type": "code",
   "execution_count": null,
   "metadata": {},
   "outputs": [],
   "source": [
    "def count_unival_subtrees(root):\n",
    "    count, _ = helper(root)\n",
    "    return count\n",
    "\n",
    "# Also returns number of unival subtrees, and whether it is itself a unival subtree.\n",
    "def helper(root):\n",
    "    if root is None:\n",
    "        return 0, True\n",
    "\n",
    "    left_count, is_left_unival = helper(root.left)\n",
    "    right_count, is_right_unival = helper(root.right)\n",
    "    total_count = left_count + right_count\n",
    "\n",
    "    if is_left_unival and is_right_unival:\n",
    "        if root.left is not None and root.value != root.left.value:\n",
    "            return total_count, False\n",
    "        if root.right is not None and root.value != root.right.value:\n",
    "            return total_count, False\n",
    "        return total_count + 1, True\n",
    "    return total_count, False"
   ]
  }
 ],
 "metadata": {
  "kernelspec": {
   "display_name": "Python 3 (ipykernel)",
   "language": "python",
   "name": "python3"
  },
  "language_info": {
   "codemirror_mode": {
    "name": "ipython",
    "version": 3
   },
   "file_extension": ".py",
   "mimetype": "text/x-python",
   "name": "python",
   "nbconvert_exporter": "python",
   "pygments_lexer": "ipython3",
   "version": "3.9.13"
  }
 },
 "nbformat": 4,
 "nbformat_minor": 2
}
