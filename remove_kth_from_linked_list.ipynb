{
 "cells": [
  {
   "cell_type": "markdown",
   "id": "92857749",
   "metadata": {},
   "source": [
    "# Given a singly linked list and an integer k, remove the kth last element from the list. k is guaranteed to be smaller than the length of the list.\n",
    "\n",
    "The list is very long, so making more than one pass is prohibitively expensive.\n",
    "\n",
    "Do this in constant space and in one pass."
   ]
  },
  {
   "cell_type": "code",
   "execution_count": null,
   "id": "c9ab2a48",
   "metadata": {},
   "outputs": [],
   "source": [
    "class Node:\n",
    "    def __init__(self, val, next=None):\n",
    "        self.val = val\n",
    "        self.next = next\n",
    "\n",
    "    def __str__(self):\n",
    "        current_node = self\n",
    "        result = []\n",
    "        while current_node:\n",
    "            result.append(current_node.val)\n",
    "            current_node = current_node.next\n",
    "        return str(result)\n",
    "\n",
    "def remove_kth_from_linked_list(head, k):\n",
    "    slow, fast = head, head\n",
    "    for i in range(k):\n",
    "        fast = fast.next\n",
    "\n",
    "    prev = None\n",
    "    while fast:\n",
    "        prev = slow\n",
    "        slow = slow.next\n",
    "        fast = fast.next\n",
    "\n",
    "    prev.next = slow.next\n",
    "\n",
    "head = Node(1, Node(2, Node(3, Node(4, Node(5)))))\n",
    "print(head)\n",
    "remove_kth_from_linked_list(head, 3)\n",
    "print(head)"
   ]
  }
 ],
 "metadata": {
  "kernelspec": {
   "display_name": "Python 3 (ipykernel)",
   "language": "python",
   "name": "python3"
  },
  "language_info": {
   "codemirror_mode": {
    "name": "ipython",
    "version": 3
   },
   "file_extension": ".py",
   "mimetype": "text/x-python",
   "name": "python",
   "nbconvert_exporter": "python",
   "pygments_lexer": "ipython3",
   "version": "3.9.13"
  }
 },
 "nbformat": 4,
 "nbformat_minor": 5
}
