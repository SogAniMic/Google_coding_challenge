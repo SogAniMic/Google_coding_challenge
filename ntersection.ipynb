{
 "cells": [
  {
   "cell_type": "markdown",
   "id": "d3acf531",
   "metadata": {},
   "source": [
    "# Given two singly linked lists that intersect at some point, find the intersecting node. The lists are non-cyclical.\n",
    "\n",
    "For example, given A = 3 -> 7 -> 8 -> 10 and B = 99 -> 1 -> 8 -> 10, return the node with value 8.\n",
    "\n",
    "In this example, assume nodes with the same value are the exact same node objects.\n",
    "\n",
    "Do this in O(M + N) time (where M and N are the lengths of the lists) and constant space.                             \""
   ]
  },
  {
   "cell_type": "code",
   "execution_count": null,
   "id": "3e21734d",
   "metadata": {},
   "outputs": [],
   "source": [
    "def length(head):\n",
    "    if not head:\n",
    "        return 0\n",
    "    return 1 + length(head.next)\n",
    "\n",
    "def intersection(a, b):\n",
    "    m, n = length(a), length(b)\n",
    "    cur_a, cur_b = a, b\n",
    "\n",
    "    if m > n:\n",
    "        for _ in range(m - n):\n",
    "            cur_a = cur_a.next\n",
    "    else:\n",
    "        for _ in range(n - m):\n",
    "            cur_b = cur_b.next\n",
    "\n",
    "    while cur_a != cur_b:\n",
    "        cur_a = cur_a.next\n",
    "        cur_b = cur_b.next\n",
    "    return cur_a"
   ]
  }
 ],
 "metadata": {
  "kernelspec": {
   "display_name": "Python 3 (ipykernel)",
   "language": "python",
   "name": "python3"
  },
  "language_info": {
   "codemirror_mode": {
    "name": "ipython",
    "version": 3
   },
   "file_extension": ".py",
   "mimetype": "text/x-python",
   "name": "python",
   "nbconvert_exporter": "python",
   "pygments_lexer": "ipython3",
   "version": "3.9.13"
  }
 },
 "nbformat": 4,
 "nbformat_minor": 5
}
