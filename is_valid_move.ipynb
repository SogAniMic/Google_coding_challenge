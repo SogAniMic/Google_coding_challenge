{
 "cells": [
  {
   "cell_type": "markdown",
   "id": "1d363bc6",
   "metadata": {},
   "source": [
    "# A knight's tour is a sequence of moves by a knight on a chessboard such that all squares are visited once.\n",
    "\n",
    "Given N, write a function to return the number of knight's tours on an N by N chessboard."
   ]
  },
  {
   "cell_type": "markdown",
   "id": "6c770045",
   "metadata": {},
   "source": [
    "def is_valid_move(board, move, n):\n",
    "    r, c = move\n",
    "    return 0 <= r < n and 0 <= c < n and board[r][c] is None\n",
    "\n",
    "def valid_moves(board, r, c, n):\n",
    "    deltas = [\n",
    "        (2, 1),\n",
    "        (1, 2),\n",
    "        (1, -2),\n",
    "        (-2, 1),\n",
    "        (-1, 2),\n",
    "        (2, -1),\n",
    "        (-1, -2),\n",
    "        (-2, -1),\n",
    "    ]\n",
    "    all_moves = [(r + r_delta, c + c_delta) for r_delta, c_delta in deltas]\n",
    "    return [move for move in all_moves if is_valid_move(board, move, n)]\n",
    "\n",
    "def knights_tours(n):\n",
    "    count = 0\n",
    "    for i in range(n):\n",
    "        for j in range(n):\n",
    "            board = [[None for _ in range(n)] for _ in range(n)]\n",
    "            board[i][j] = 0\n",
    "            count += knights_tours_helper(board, [(i, j)], n)\n",
    "    return count\n",
    "\n",
    "def knights_tours_helper(board, tour, n):\n",
    "    if len(tour) == n * n:\n",
    "        return 1\n",
    "    else:\n",
    "        count = 0\n",
    "        last_r, last_c = tour[-1]\n",
    "        for r, c in valid_moves(board, last_r, last_c, n):\n",
    "            tour.append((r, c))\n",
    "            board[r][c] = len(tour)\n",
    "            count += knights_tours_helper(board, tour, n)\n",
    "            tour.pop()\n",
    "            board[r][c] = None\n",
    "        return count\n"
   ]
  }
 ],
 "metadata": {
  "kernelspec": {
   "display_name": "Python 3 (ipykernel)",
   "language": "python",
   "name": "python3"
  },
  "language_info": {
   "codemirror_mode": {
    "name": "ipython",
    "version": 3
   },
   "file_extension": ".py",
   "mimetype": "text/x-python",
   "name": "python",
   "nbconvert_exporter": "python",
   "pygments_lexer": "ipython3",
   "version": "3.9.13"
  }
 },
 "nbformat": 4,
 "nbformat_minor": 5
}
