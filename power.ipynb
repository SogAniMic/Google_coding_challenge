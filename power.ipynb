{
 "cells": [
  {
   "cell_type": "markdown",
   "id": "ac938b3b",
   "metadata": {},
   "source": [
    "# Implement integer exponentiation. That is, implement the pow(x, y) function, where x and y are integers and returns x^y.\n",
    "\n",
    "Do this faster than the naive method of repeated multiplication.\n",
    "\n",
    "For example, pow(2, 10) should return 1024."
   ]
  },
  {
   "cell_type": "code",
   "execution_count": null,
   "id": "e06f20ed",
   "metadata": {},
   "outputs": [],
   "source": [
    "def power(x, y):\n",
    "    if y < 0:\n",
    "        return power(1 / x, -y)\n",
    "    elif y == 0:\n",
    "        return 1\n",
    "    elif y == 1:\n",
    "        return x\n",
    "    elif y % 2 == 0:\n",
    "        return power(x * x, y // 2)\n",
    "    else: # y is odd\n",
    "        return x * power(x * x, y // 2)"
   ]
  }
 ],
 "metadata": {
  "kernelspec": {
   "display_name": "Python 3 (ipykernel)",
   "language": "python",
   "name": "python3"
  },
  "language_info": {
   "codemirror_mode": {
    "name": "ipython",
    "version": 3
   },
   "file_extension": ".py",
   "mimetype": "text/x-python",
   "name": "python",
   "nbconvert_exporter": "python",
   "pygments_lexer": "ipython3",
   "version": "3.9.13"
  }
 },
 "nbformat": 4,
 "nbformat_minor": 5
}
