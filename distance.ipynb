{
 "cells": [
  {
   "cell_type": "markdown",
   "id": "d0768041",
   "metadata": {},
   "source": [
    "# This problem was asked by Google.\n",
    "\n",
    "The edit distance between two strings refers to the minimum number of character insertions, deletions, and substitutions required to change one string to the other. For example, the edit distance between “kitten” and “sitting” is three: substitute the “k” for “s”, substitute the “e” for “i”, and append a “g”.\n",
    "\n",
    "Given two strings, compute the edit distance between them."
   ]
  },
  {
   "cell_type": "code",
   "execution_count": null,
   "id": "da1bf686",
   "metadata": {},
   "outputs": [],
   "source": [
    "def distance(s1, s2):\n",
    "    x = len(s1) + 1 # the length of the x-coordinate\n",
    "    y = len(s2) + 1 # the length of the y-coordinate\n",
    "\n",
    "    A = [[-1 for i in range(x)] for j in range(y)]\n",
    "    for i in range(x):\n",
    "        A[0][i] = i\n",
    "\n",
    "    for j in range(y):\n",
    "        A[j][0] = j\n",
    "\n",
    "    for i in range(1, y):\n",
    "        for j in range(1, x):\n",
    "            if s1[j- 1] == s2[i - 1]:\n",
    "                A[i][j] = A[i - 1][j - 1]\n",
    "            else:\n",
    "                A[i][j] = min(\n",
    "                        A[i - 1][j] + 1,\n",
    "                        A[i][j - 1] + 1,\n",
    "                        A[i - 1][j - 1] + 1\n",
    "                        )\n",
    "    return A[y - 1][x - 1] # return the edit distance between the two strings"
   ]
  }
 ],
 "metadata": {
  "kernelspec": {
   "display_name": "Python 3 (ipykernel)",
   "language": "python",
   "name": "python3"
  },
  "language_info": {
   "codemirror_mode": {
    "name": "ipython",
    "version": 3
   },
   "file_extension": ".py",
   "mimetype": "text/x-python",
   "name": "python",
   "nbconvert_exporter": "python",
   "pygments_lexer": "ipython3",
   "version": "3.9.13"
  }
 },
 "nbformat": 4,
 "nbformat_minor": 5
}
