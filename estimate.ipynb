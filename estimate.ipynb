{
 "cells": [
  {
   "cell_type": "markdown",
   "metadata": {},
   "source": [
    "# This problem was asked by Google.\n",
    "\n",
    "The area of a circle is defined as πr^2. Estimate π to 3 decimal places using a Monte Carlo method.\n",
    "\n",
    "Hint: The basic equation of a circle is x2 + y2 = r2."
   ]
  },
  {
   "cell_type": "code",
   "execution_count": null,
   "metadata": {},
   "outputs": [],
   "source": [
    "rom random import uniform\n",
    "from math import pow\n",
    "\n",
    "def generate():\n",
    "    return (uniform(-1, 1), uniform(-1, 1))\n",
    "\n",
    "def is_in_circle(coords):\n",
    "    return coords[0] * coords[0] + coords[1] * coords[1] < 1\n",
    "\n",
    "def estimate():\n",
    "    iterations = 10000000\n",
    "    in_circle = 0\n",
    "    for _ in range(iterations):\n",
    "        if is_in_circle(generate()):\n",
    "            in_circle += 1\n",
    "    pi_over_four = in_circle / iterations\n",
    "    return pi_over_four * 4"
   ]
  }
 ],
 "metadata": {
  "kernelspec": {
   "display_name": "Python 3 (ipykernel)",
   "language": "python",
   "name": "python3"
  },
  "language_info": {
   "codemirror_mode": {
    "name": "ipython",
    "version": 3
   },
   "file_extension": ".py",
   "mimetype": "text/x-python",
   "name": "python",
   "nbconvert_exporter": "python",
   "pygments_lexer": "ipython3",
   "version": "3.9.13"
  }
 },
 "nbformat": 4,
 "nbformat_minor": 2
}
